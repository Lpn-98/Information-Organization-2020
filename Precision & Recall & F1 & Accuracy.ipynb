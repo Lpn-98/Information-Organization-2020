{
 "cells": [
  {
   "cell_type": "markdown",
   "metadata": {},
   "source": [
    "# Precision & Recall & F1 & Accuracy"
   ]
  },
  {
   "cell_type": "markdown",
   "metadata": {},
   "source": [
    "输入混淆矩阵，计算Precision & Recall & F1 & Accuracy"
   ]
  },
  {
   "cell_type": "code",
   "execution_count": 2,
   "metadata": {},
   "outputs": [
    {
     "name": "stdout",
     "output_type": "stream",
     "text": [
      "输入TP（revelant & retrieved）：\n",
      "4\n",
      "输入FP（non-revelant & retrieved）：\n",
      "2\n",
      "输入FN（revelant & not retrieved）：\n",
      "2\n",
      "输入TN（non-revelant & not retrieved）：\n",
      "4\n",
      "Precision:0.6666666666666666\n",
      "Recall:0.6666666666666666\n",
      "F1-measure:0.6666666666666666\n",
      "Accuracy:0.6666666666666666\n"
     ]
    }
   ],
   "source": [
    "print(\"输入TP（revelant & retrieved）：\")\n",
    "TP=int(input())\n",
    "print(\"输入FP（non-revelant & retrieved）：\")\n",
    "FP=int(input())\n",
    "print(\"输入FN（revelant & not retrieved）：\")\n",
    "FN=int(input())\n",
    "print(\"输入TN（non-revelant & not retrieved）：\")\n",
    "TN=int(input())\n",
    "\n",
    "P=TP/(TP+FP)\n",
    "R=TP/(TP+FN)\n",
    "F=2/(1/P+1/R)\n",
    "A=(TP+TN)/(TP+FP+FN+TN)\n",
    "\n",
    "print(\"Precision:{}\".format(P))\n",
    "print('Recall:{}'.format(R))\n",
    "print('F1-measure:{}'.format(F))\n",
    "print('Accuracy:{}'.format(A))"
   ]
  }
 ],
 "metadata": {
  "kernelspec": {
   "display_name": "Python 3",
   "language": "python",
   "name": "python3"
  },
  "language_info": {
   "codemirror_mode": {
    "name": "ipython",
    "version": 3
   },
   "file_extension": ".py",
   "mimetype": "text/x-python",
   "name": "python",
   "nbconvert_exporter": "python",
   "pygments_lexer": "ipython3",
   "version": "3.7.3"
  }
 },
 "nbformat": 4,
 "nbformat_minor": 2
}
