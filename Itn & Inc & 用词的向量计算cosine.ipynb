{
 "cells": [
  {
   "cell_type": "markdown",
   "metadata": {},
   "source": [
    "# Itn"
   ]
  },
  {
   "cell_type": "markdown",
   "metadata": {},
   "source": [
    "输入格式为 dic_tf_df_raw={'auto':[0,5000],'best':[1,50000],'car':[1,10000],'insurance':[1,1000]}"
   ]
  },
  {
   "cell_type": "code",
   "execution_count": 76,
   "metadata": {},
   "outputs": [],
   "source": [
    "import math\n",
    "import pandas as pd\n",
    "def Itn(dic_tf_df_raw,N):\n",
    "    df=pd.DataFrame(columns={\"tf-raw\":\"\",\"tf-wght\":\"\",\"df\":\"\",\"idf\":\"\",\"weight\":\"\"},index=list(dic_tf_df_raw.keys()))\n",
    "    for i in list(dic_tf_df_raw.keys()):\n",
    "        df['tf-raw'][i]=dic_tf_df_raw[i][0]\n",
    "        if dic_tf_df_raw[i][0]==0:\n",
    "            df['tf-wght'][i]=0\n",
    "        else:\n",
    "            df['tf-wght'][i]=1+round(math.log10(dic_tf_df_raw[i][0]),2)\n",
    "        df['idf'][i]=round(math.log10(N/dic_tf_df_raw[i][1]),2)\n",
    "        df['df'][i]=dic_tf_df_raw[i][1]\n",
    "        df['weight'][i]=df['tf-wght'][i]*df['idf'][i]\n",
    "    return df"
   ]
  },
  {
   "cell_type": "code",
   "execution_count": 77,
   "metadata": {},
   "outputs": [
    {
     "name": "stdout",
     "output_type": "stream",
     "text": [
      "          tf-raw tf-wght     df  idf weight\n",
      "auto           0       0   5000  2.3      0\n",
      "best           1       1  50000  1.3    1.3\n",
      "car            1       1  10000    2      2\n",
      "insurance      1       1   1000    3      3\n"
     ]
    }
   ],
   "source": [
    "dic_tf_df_raw1={'auto':[0,5000],'best':[1,50000],'car':[1,10000],'insurance':[1,1000]}\n",
    "df1=Itn(dic_tf_df_raw1,1000000)\n",
    "print(df1)"
   ]
  },
  {
   "cell_type": "markdown",
   "metadata": {},
   "source": [
    "# Inc"
   ]
  },
  {
   "cell_type": "markdown",
   "metadata": {},
   "source": [
    "输入格式为 dic_tf_df_raw={'auto':[0,5000],'best':[1,50000],'car':[1,10000],'insurance':[1,1000]}"
   ]
  },
  {
   "cell_type": "code",
   "execution_count": 78,
   "metadata": {},
   "outputs": [],
   "source": [
    "def Inc(dic_tf_df_raw,N):\n",
    "    df=pd.DataFrame(columns={\"tf-raw\":\"\",\"tf-wght\":\"\",\"weight\":\"\",\"normalizaed\":\"\"},index=list(dic_tf_df_raw.keys()))\n",
    "    for i in list(dic_tf_df_raw.keys()):\n",
    "        df['tf-raw'][i]=dic_tf_df_raw[i][0]\n",
    "        if dic_tf_df_raw[i][0]==0:\n",
    "            df['tf-wght'][i]=0\n",
    "        else:\n",
    "            df['tf-wght'][i]=1+round(math.log10(dic_tf_df_raw[i][0]),2)\n",
    "        df['weight'][i]=df['tf-wght'][i]\n",
    "    normalizaed_fenmu=round(pow(sum([i**2 for i in df['weight'] if i!=0]),0.5),2)\n",
    "    for i in list(dic_tf_df_raw.keys()):\n",
    "        if df['weight'][i]==0:\n",
    "            df['normalizaed'][i]=0\n",
    "        else:\n",
    "            df['normalizaed'][i]=round(df['weight'][i]/normalizaed_fenmu,2)\n",
    "    return df"
   ]
  },
  {
   "cell_type": "code",
   "execution_count": 79,
   "metadata": {},
   "outputs": [
    {
     "name": "stdout",
     "output_type": "stream",
     "text": [
      "          tf-raw tf-wght weight normalizaed\n",
      "auto           1       1      1        0.52\n",
      "best           0       0      0           0\n",
      "car            1       1      1        0.52\n",
      "insurance      2     1.3    1.3        0.68\n"
     ]
    }
   ],
   "source": [
    "dic_tf_df_raw2={'auto':[1,5000],'best':[0,50000],'car':[1,10000],'insurance':[2,1000]}\n",
    "df2=Inc(dic_tf_df_raw2,1000000)\n",
    "print(df2)"
   ]
  },
  {
   "cell_type": "markdown",
   "metadata": {},
   "source": [
    "# 用词的向量计算cosine"
   ]
  },
  {
   "cell_type": "code",
   "execution_count": null,
   "metadata": {},
   "outputs": [],
   "source": [
    "输入两个dataframe，将两个dataframe的最后一列进行cosine积（无标准化&标准化）"
   ]
  },
  {
   "cell_type": "code",
   "execution_count": 90,
   "metadata": {},
   "outputs": [
    {
     "name": "stdout",
     "output_type": "stream",
     "text": [
      "无标准化\n",
      "auto            0\n",
      "best            0\n",
      "car          1.04\n",
      "insurance    2.04\n",
      "dtype: object\n"
     ]
    }
   ],
   "source": [
    "print('无标准化')\n",
    "print(df1[df1.columns[-1]]*df2[df2.columns[-1]])"
   ]
  },
  {
   "cell_type": "code",
   "execution_count": 91,
   "metadata": {},
   "outputs": [
    {
     "name": "stdout",
     "output_type": "stream",
     "text": [
      "有标准化\n",
      "auto                0\n",
      "best                0\n",
      "car          0.270912\n",
      "insurance    0.531405\n",
      "dtype: object\n"
     ]
    }
   ],
   "source": [
    "print('有标准化')\n",
    "print((df1[df1.columns[-1]]*df2[df2.columns[-1]])/(pow(sum([i**2 for i in df1[df1.columns[-1]] if i!=0]),0.5)*pow(sum([i**2 for i in df2[df2.columns[-1]] if i!=0]),0.5)))"
   ]
  }
 ],
 "metadata": {
  "kernelspec": {
   "display_name": "Python 3",
   "language": "python",
   "name": "python3"
  },
  "language_info": {
   "codemirror_mode": {
    "name": "ipython",
    "version": 3
   },
   "file_extension": ".py",
   "mimetype": "text/x-python",
   "name": "python",
   "nbconvert_exporter": "python",
   "pygments_lexer": "ipython3",
   "version": "3.7.3"
  }
 },
 "nbformat": 4,
 "nbformat_minor": 2
}
