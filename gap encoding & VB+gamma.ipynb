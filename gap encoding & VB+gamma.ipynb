{
 "cells": [
  {
   "cell_type": "markdown",
   "metadata": {},
   "source": [
    "# gap encoding & VB"
   ]
  },
  {
   "cell_type": "markdown",
   "metadata": {},
   "source": [
    "输入docID的posting lists，输出gap encoding list 和 VB lists"
   ]
  },
  {
   "cell_type": "code",
   "execution_count": 44,
   "metadata": {},
   "outputs": [
    {
     "name": "stdout",
     "output_type": "stream",
     "text": [
      "输入docID的posting lists：\n",
      "\n",
      "2\n",
      "3\n",
      "\n",
      "【原始数据】：[2, 3]\n",
      "【gap encoding 后数据】：[2, 1]\n",
      "【VB后数据】：10000010 10000001\n",
      "【VB详细】：2 -> 10000010\n",
      "【VB详细】：1 -> 10000001\n",
      "-----------------------------------------\n"
     ]
    }
   ],
   "source": [
    "def gap_encoding(num_list):\n",
    "    gap_encoding_list=[]\n",
    "    gap_encoding_list.append(num_list[0])\n",
    "    j=num_list[0]\n",
    "    for i in num_list[1:]:\n",
    "        gap_encoding_list.append(i-j)\n",
    "        j=i\n",
    "    return gap_encoding_list\n",
    "\n",
    "def VB_num(num):\n",
    "    binary_num=str(bin(num)[2:])\n",
    "    VB_num=\"\"\n",
    "    rest_binary_num=binary_num\n",
    "    if len(rest_binary_num) <= 7:\n",
    "        VB_num='1'+''.join(['0' for i in range(0,7-len(rest_binary_num))])+rest_binary_num\n",
    "    else:\n",
    "        VB_num='1'+rest_binary_num[len(binary_num)-7:]\n",
    "        rest_binary_num=rest_binary_num[:len(binary_num)-7]\n",
    "        if len(rest_binary_num) <= 7:\n",
    "            VB_num='0'+''.join(['0' for i in range(0,7-len(rest_binary_num))])+rest_binary_num+\" \"+VB_num\n",
    "        else:\n",
    "            while len(rest_binary_num) >7:\n",
    "                VB_num=\"0\"+rest_binary_num[len(binary_num)-7:]+\" \"+VB_num\n",
    "                rest_binary_num=rest_binary_num[:len(binary_num)-7]\n",
    "                if len(rest_binary_num) <= 7:\n",
    "                    first_binary_num='0'+''.join(['0' for i in range(0,7-len(rest_binary_num))])+rest_binary_num\n",
    "                    VB_num=first_binary_num+\" \"+VB_num\n",
    "                break\n",
    "    return VB_num\n",
    "    \n",
    "def VB_list(gap_encoding_list):\n",
    "    vb_dic={}\n",
    "    for i in gap_encoding_list:\n",
    "        vb_num=VB_num(i)\n",
    "        vb_dic[i]=vb_num\n",
    "    vb_string=\" \".join([i for i in vb_dic.values()])\n",
    "    return vb_dic,vb_string\n",
    "\n",
    "\n",
    "print('输入docID的posting lists：')\n",
    "print(\"\")\n",
    "input_list=[]\n",
    "while True:\n",
    "    input_num=input()\n",
    "    if not input_num :\n",
    "        break\n",
    "    input_list.append(int(input_num))\n",
    "output_gap_encoding_list=gap_encoding(input_list)\n",
    "ouput_vb_dic,output_vb_string=VB_list(output_gap_encoding_list)\n",
    "\n",
    "print('【原始数据】：{}'.format(input_list))\n",
    "print('【gap encoding 后数据】：{}'.format(output_gap_encoding_list))\n",
    "print('【VB后数据】：{}'.format(output_vb_string))\n",
    "for i,j in ouput_vb_dic.items():\n",
    "    print('【VB详细】：{} -> {}'.format(i,j))\n",
    "print('-----------------------------------------')"
   ]
  },
  {
   "cell_type": "markdown",
   "metadata": {},
   "source": [
    "# gap encoding & gamma"
   ]
  },
  {
   "cell_type": "markdown",
   "metadata": {},
   "source": [
    "输入docID的posting lists，输出gap encoding list 和 gamma encoding lists"
   ]
  },
  {
   "cell_type": "code",
   "execution_count": 50,
   "metadata": {},
   "outputs": [
    {
     "name": "stdout",
     "output_type": "stream",
     "text": [
      "输入docID的posting lists：\n",
      "\n",
      "13\n",
      "\n",
      "【原始数据】：[13]\n",
      "【gap encoding 后数据】：[13]\n",
      "【gamma后数据】：1110,101\n",
      "【gamma详细】：13 -> 1110,101\n",
      "-----------------------------------------\n"
     ]
    }
   ],
   "source": [
    "def gap_encoding(num_list):\n",
    "    gap_encoding_list=[]\n",
    "    gap_encoding_list.append(num_list[0])\n",
    "    j=num_list[0]\n",
    "    for i in num_list[1:]:\n",
    "        gap_encoding_list.append(i-j)\n",
    "        j=i\n",
    "    return gap_encoding_list\n",
    "\n",
    "def gamma_num(num):\n",
    "    if num==1:\n",
    "        return '0'\n",
    "    elif num==2:\n",
    "        return '10,0'\n",
    "    else:\n",
    "        chopped_binary_num=str(bin(num)[3:])\n",
    "        gamma_num=''.join(['1' for i in range(len(chopped_binary_num))])+'0'+','+chopped_binary_num\n",
    "        return gamma_num\n",
    "\n",
    "def gamma_list(gap_encoding_list):\n",
    "    gamma_dic={}\n",
    "    for i in gap_encoding_list:\n",
    "        Gamma_num=gamma_num(i)\n",
    "        gamma_dic[i]=Gamma_num\n",
    "    gamma_string=\" \".join([i for i in gamma_dic.values()])\n",
    "    return gamma_dic,gamma_string\n",
    "\n",
    "print('输入docID的posting lists：')\n",
    "print(\"\")\n",
    "input_list=[]\n",
    "while True:\n",
    "    input_num=input()\n",
    "    if not input_num :\n",
    "        break\n",
    "    input_list.append(int(input_num))\n",
    "output_gap_encoding_list=gap_encoding(input_list)\n",
    "ouput_gamma_dic,output_gamma_string=gamma_list(output_gap_encoding_list)\n",
    "\n",
    "print('【原始数据】：{}'.format(input_list))\n",
    "print('【gap encoding 后数据】：{}'.format(output_gap_encoding_list))\n",
    "print('【gamma后数据】：{}'.format(output_gamma_string))\n",
    "for i,j in ouput_gamma_dic.items():\n",
    "    print('【gamma详细】：{} -> {}'.format(i,j))\n",
    "print('-----------------------------------------')"
   ]
  }
 ],
 "metadata": {
  "kernelspec": {
   "display_name": "Python 3",
   "language": "python",
   "name": "python3"
  },
  "language_info": {
   "codemirror_mode": {
    "name": "ipython",
    "version": 3
   },
   "file_extension": ".py",
   "mimetype": "text/x-python",
   "name": "python",
   "nbconvert_exporter": "python",
   "pygments_lexer": "ipython3",
   "version": "3.7.3"
  }
 },
 "nbformat": 4,
 "nbformat_minor": 2
}
